{
 "cells": [
  {
   "cell_type": "code",
   "execution_count": 1,
   "id": "299e37a1",
   "metadata": {
    "execution": {
     "iopub.execute_input": "2021-09-24T16:21:48.095013Z",
     "iopub.status.busy": "2021-09-24T16:21:48.089633Z",
     "iopub.status.idle": "2021-09-24T16:21:49.432408Z",
     "shell.execute_reply": "2021-09-24T16:21:49.431191Z",
     "shell.execute_reply.started": "2021-09-24T15:51:37.190283Z"
    },
    "papermill": {
     "duration": 1.368227,
     "end_time": "2021-09-24T16:21:49.432690",
     "exception": false,
     "start_time": "2021-09-24T16:21:48.064463",
     "status": "completed"
    },
    "tags": []
   },
   "outputs": [
    {
     "name": "stdout",
     "output_type": "stream",
     "text": [
      "Setup Complete\n"
     ]
    }
   ],
   "source": [
    "# Set up code checking\n",
    "import os\n",
    "if not os.path.exists(\"../input/train.csv\"):\n",
    "    os.symlink(\"../input/home-data-for-ml-course/train.csv\", \"../input/train.csv\")  \n",
    "    os.symlink(\"../input/home-data-for-ml-course/test.csv\", \"../input/test.csv\")  \n",
    "from learntools.core import binder\n",
    "binder.bind(globals())\n",
    "from learntools.ml_intermediate.ex1 import *\n",
    "print(\"Setup Complete\")"
   ]
  },
  {
   "cell_type": "markdown",
   "id": "9ae60d0f",
   "metadata": {
    "papermill": {
     "duration": 0.014364,
     "end_time": "2021-09-24T16:21:49.462693",
     "exception": false,
     "start_time": "2021-09-24T16:21:49.448329",
     "status": "completed"
    },
    "tags": []
   },
   "source": [
    "You will work with data from the [Housing Prices Competition for Kaggle Learn Users](https://www.kaggle.com/c/home-data-for-ml-course) to predict home prices in Iowa using 79 explanatory variables describing (almost) every aspect of the homes.  \n",
    "\n",
    "![Ames Housing dataset image](https://i.imgur.com/lTJVG4e.png)\n",
    "\n",
    "Run the next code cell without changes to load the training and validation features in `X_train` and `X_valid`, along with the prediction targets in `y_train` and `y_valid`.  The test features are loaded in `X_test`.  (_If you need to review **features** and **prediction targets**, please check out [this short tutorial](https://www.kaggle.com/dansbecker/your-first-machine-learning-model).  To read about model **validation**, look [here](https://www.kaggle.com/dansbecker/model-validation).  Alternatively, if you'd prefer to look through a full course to review all of these topics, start [here](https://www.kaggle.com/learn/machine-learning).)_"
   ]
  },
  {
   "cell_type": "code",
   "execution_count": 2,
   "id": "65511217",
   "metadata": {
    "execution": {
     "iopub.execute_input": "2021-09-24T16:21:49.501586Z",
     "iopub.status.busy": "2021-09-24T16:21:49.500830Z",
     "iopub.status.idle": "2021-09-24T16:21:49.603100Z",
     "shell.execute_reply": "2021-09-24T16:21:49.603725Z",
     "shell.execute_reply.started": "2021-09-24T16:01:46.725398Z"
    },
    "papermill": {
     "duration": 0.126146,
     "end_time": "2021-09-24T16:21:49.603907",
     "exception": false,
     "start_time": "2021-09-24T16:21:49.477761",
     "status": "completed"
    },
    "tags": []
   },
   "outputs": [],
   "source": [
    "import pandas as pd\n",
    "from sklearn.model_selection import train_test_split\n",
    "\n",
    "# Read the data\n",
    "X_full = pd.read_csv('../input/train.csv', index_col='Id')\n",
    "X_test_full = pd.read_csv('../input/test.csv', index_col='Id')\n",
    "\n",
    "# Obtain target and predictors\n",
    "y = X_full.SalePrice\n",
    "features = ['LotArea', 'YearBuilt', '1stFlrSF', '2ndFlrSF', 'FullBath', 'BedroomAbvGr', 'TotRmsAbvGrd']\n",
    "X = X_full[features].copy()\n",
    "X_test = X_test_full[features].copy()\n",
    "\n",
    "# Break off validation set from training data\n",
    "X_train, X_valid, y_train, y_valid = train_test_split(X, y, train_size=0.8, test_size=0.2,\n",
    "                                                      random_state=0)"
   ]
  },
  {
   "cell_type": "markdown",
   "id": "9904f47e",
   "metadata": {
    "papermill": {
     "duration": 0.015034,
     "end_time": "2021-09-24T16:21:49.633691",
     "exception": false,
     "start_time": "2021-09-24T16:21:49.618657",
     "status": "completed"
    },
    "tags": []
   },
   "source": [
    "Use the next cell to print the first several rows of the data. It's a nice way to get an overview of the data you will use in your price prediction model."
   ]
  },
  {
   "cell_type": "code",
   "execution_count": 3,
   "id": "b24c9677",
   "metadata": {
    "execution": {
     "iopub.execute_input": "2021-09-24T16:21:49.671729Z",
     "iopub.status.busy": "2021-09-24T16:21:49.667779Z",
     "iopub.status.idle": "2021-09-24T16:21:49.685967Z",
     "shell.execute_reply": "2021-09-24T16:21:49.686497Z",
     "shell.execute_reply.started": "2021-09-24T16:01:57.274814Z"
    },
    "papermill": {
     "duration": 0.037723,
     "end_time": "2021-09-24T16:21:49.686675",
     "exception": false,
     "start_time": "2021-09-24T16:21:49.648952",
     "status": "completed"
    },
    "tags": []
   },
   "outputs": [
    {
     "data": {
      "text/html": [
       "<div>\n",
       "<style scoped>\n",
       "    .dataframe tbody tr th:only-of-type {\n",
       "        vertical-align: middle;\n",
       "    }\n",
       "\n",
       "    .dataframe tbody tr th {\n",
       "        vertical-align: top;\n",
       "    }\n",
       "\n",
       "    .dataframe thead th {\n",
       "        text-align: right;\n",
       "    }\n",
       "</style>\n",
       "<table border=\"1\" class=\"dataframe\">\n",
       "  <thead>\n",
       "    <tr style=\"text-align: right;\">\n",
       "      <th></th>\n",
       "      <th>LotArea</th>\n",
       "      <th>YearBuilt</th>\n",
       "      <th>1stFlrSF</th>\n",
       "      <th>2ndFlrSF</th>\n",
       "      <th>FullBath</th>\n",
       "      <th>BedroomAbvGr</th>\n",
       "      <th>TotRmsAbvGrd</th>\n",
       "    </tr>\n",
       "    <tr>\n",
       "      <th>Id</th>\n",
       "      <th></th>\n",
       "      <th></th>\n",
       "      <th></th>\n",
       "      <th></th>\n",
       "      <th></th>\n",
       "      <th></th>\n",
       "      <th></th>\n",
       "    </tr>\n",
       "  </thead>\n",
       "  <tbody>\n",
       "    <tr>\n",
       "      <th>619</th>\n",
       "      <td>11694</td>\n",
       "      <td>2007</td>\n",
       "      <td>1828</td>\n",
       "      <td>0</td>\n",
       "      <td>2</td>\n",
       "      <td>3</td>\n",
       "      <td>9</td>\n",
       "    </tr>\n",
       "    <tr>\n",
       "      <th>871</th>\n",
       "      <td>6600</td>\n",
       "      <td>1962</td>\n",
       "      <td>894</td>\n",
       "      <td>0</td>\n",
       "      <td>1</td>\n",
       "      <td>2</td>\n",
       "      <td>5</td>\n",
       "    </tr>\n",
       "    <tr>\n",
       "      <th>93</th>\n",
       "      <td>13360</td>\n",
       "      <td>1921</td>\n",
       "      <td>964</td>\n",
       "      <td>0</td>\n",
       "      <td>1</td>\n",
       "      <td>2</td>\n",
       "      <td>5</td>\n",
       "    </tr>\n",
       "    <tr>\n",
       "      <th>818</th>\n",
       "      <td>13265</td>\n",
       "      <td>2002</td>\n",
       "      <td>1689</td>\n",
       "      <td>0</td>\n",
       "      <td>2</td>\n",
       "      <td>3</td>\n",
       "      <td>7</td>\n",
       "    </tr>\n",
       "    <tr>\n",
       "      <th>303</th>\n",
       "      <td>13704</td>\n",
       "      <td>2001</td>\n",
       "      <td>1541</td>\n",
       "      <td>0</td>\n",
       "      <td>2</td>\n",
       "      <td>3</td>\n",
       "      <td>6</td>\n",
       "    </tr>\n",
       "  </tbody>\n",
       "</table>\n",
       "</div>"
      ],
      "text/plain": [
       "     LotArea  YearBuilt  1stFlrSF  2ndFlrSF  FullBath  BedroomAbvGr  \\\n",
       "Id                                                                    \n",
       "619    11694       2007      1828         0         2             3   \n",
       "871     6600       1962       894         0         1             2   \n",
       "93     13360       1921       964         0         1             2   \n",
       "818    13265       2002      1689         0         2             3   \n",
       "303    13704       2001      1541         0         2             3   \n",
       "\n",
       "     TotRmsAbvGrd  \n",
       "Id                 \n",
       "619             9  \n",
       "871             5  \n",
       "93              5  \n",
       "818             7  \n",
       "303             6  "
      ]
     },
     "execution_count": 3,
     "metadata": {},
     "output_type": "execute_result"
    }
   ],
   "source": [
    "X_train.head()"
   ]
  },
  {
   "cell_type": "markdown",
   "id": "b3351b7b",
   "metadata": {
    "papermill": {
     "duration": 0.014803,
     "end_time": "2021-09-24T16:21:49.716686",
     "exception": false,
     "start_time": "2021-09-24T16:21:49.701883",
     "status": "completed"
    },
    "tags": []
   },
   "source": [
    "The next code cell defines five different random forest models.  Run this code cell without changes.  (_To review **random forests**, look [here](https://www.kaggle.com/dansbecker/random-forests)._)"
   ]
  },
  {
   "cell_type": "code",
   "execution_count": 4,
   "id": "e5788d34",
   "metadata": {
    "execution": {
     "iopub.execute_input": "2021-09-24T16:21:49.758202Z",
     "iopub.status.busy": "2021-09-24T16:21:49.757089Z",
     "iopub.status.idle": "2021-09-24T16:21:49.759580Z",
     "shell.execute_reply": "2021-09-24T16:21:49.760092Z",
     "shell.execute_reply.started": "2021-09-24T16:02:14.478109Z"
    },
    "papermill": {
     "duration": 0.025523,
     "end_time": "2021-09-24T16:21:49.760282",
     "exception": false,
     "start_time": "2021-09-24T16:21:49.734759",
     "status": "completed"
    },
    "tags": []
   },
   "outputs": [],
   "source": [
    "from sklearn.ensemble import RandomForestRegressor\n",
    "\n",
    "# Define the models\n",
    "model_1 = RandomForestRegressor(n_estimators=50, random_state=0)\n",
    "model_2 = RandomForestRegressor(n_estimators=100, random_state=0)\n",
    "model_3 = RandomForestRegressor(n_estimators=100, criterion='mae', random_state=0)\n",
    "model_4 = RandomForestRegressor(n_estimators=200, min_samples_split=20, random_state=0)\n",
    "model_5 = RandomForestRegressor(n_estimators=100, max_depth=7, random_state=0)\n",
    "\n",
    "models = [model_1, model_2, model_3, model_4, model_5]"
   ]
  },
  {
   "cell_type": "markdown",
   "id": "e77d5f8d",
   "metadata": {
    "papermill": {
     "duration": 0.014991,
     "end_time": "2021-09-24T16:21:49.791906",
     "exception": false,
     "start_time": "2021-09-24T16:21:49.776915",
     "status": "completed"
    },
    "tags": []
   },
   "source": [
    "To select the best model out of the five, we define a function `score_model()` below.  This function returns the mean absolute error (MAE) from the validation set.  Recall that the best model will obtain the lowest MAE.  (_To review **mean absolute error**, look [here](https://www.kaggle.com/dansbecker/model-validation).)_\n",
    "\n",
    "Run the code cell without changes."
   ]
  },
  {
   "cell_type": "code",
   "execution_count": 5,
   "id": "131d573a",
   "metadata": {
    "execution": {
     "iopub.execute_input": "2021-09-24T16:21:49.828130Z",
     "iopub.status.busy": "2021-09-24T16:21:49.827015Z",
     "iopub.status.idle": "2021-09-24T16:21:55.129192Z",
     "shell.execute_reply": "2021-09-24T16:21:55.128633Z",
     "shell.execute_reply.started": "2021-09-24T16:02:57.585561Z"
    },
    "papermill": {
     "duration": 5.32124,
     "end_time": "2021-09-24T16:21:55.129371",
     "exception": false,
     "start_time": "2021-09-24T16:21:49.808131",
     "status": "completed"
    },
    "tags": []
   },
   "outputs": [
    {
     "name": "stdout",
     "output_type": "stream",
     "text": [
      "Model 1 MAE: 24015\n",
      "Model 2 MAE: 23740\n",
      "Model 3 MAE: 23528\n",
      "Model 4 MAE: 23996\n",
      "Model 5 MAE: 23706\n"
     ]
    }
   ],
   "source": [
    "from sklearn.metrics import mean_absolute_error\n",
    "\n",
    "# Function for comparing different models\n",
    "def score_model(model, X_t=X_train, X_v=X_valid, y_t=y_train, y_v=y_valid):\n",
    "    model.fit(X_t, y_t)\n",
    "    preds = model.predict(X_v)\n",
    "    return mean_absolute_error(y_v, preds)\n",
    "\n",
    "for i in range(0, len(models)):\n",
    "    mae = score_model(models[i])\n",
    "    print(\"Model %d MAE: %d\" % (i+1, mae))"
   ]
  },
  {
   "cell_type": "markdown",
   "id": "e27f29cd",
   "metadata": {
    "papermill": {
     "duration": 0.016363,
     "end_time": "2021-09-24T16:21:55.162499",
     "exception": false,
     "start_time": "2021-09-24T16:21:55.146136",
     "status": "completed"
    },
    "tags": []
   },
   "source": [
    "# Step 1: Evaluate several models\n",
    "\n",
    "Use the above results to fill in the line below.  Which model is the best model?  Your answer should be one of `model_1`, `model_2`, `model_3`, `model_4`, or `model_5`."
   ]
  },
  {
   "cell_type": "code",
   "execution_count": 6,
   "id": "40a8bce3",
   "metadata": {
    "execution": {
     "iopub.execute_input": "2021-09-24T16:21:55.203662Z",
     "iopub.status.busy": "2021-09-24T16:21:55.202640Z",
     "iopub.status.idle": "2021-09-24T16:21:55.207510Z",
     "shell.execute_reply": "2021-09-24T16:21:55.208091Z",
     "shell.execute_reply.started": "2021-09-24T16:15:54.816328Z"
    },
    "papermill": {
     "duration": 0.028512,
     "end_time": "2021-09-24T16:21:55.208304",
     "exception": false,
     "start_time": "2021-09-24T16:21:55.179792",
     "status": "completed"
    },
    "tags": []
   },
   "outputs": [
    {
     "data": {
      "application/javascript": [
       "parent.postMessage({\"jupyterEvent\": \"custom.exercise_interaction\", \"data\": {\"outcomeType\": 1, \"valueTowardsCompletion\": 0.5, \"interactionType\": 1, \"questionType\": 2, \"questionId\": \"1_BestModel\", \"learnToolsVersion\": \"0.3.4\", \"failureMessage\": \"\", \"exceptionClass\": \"\", \"trace\": \"\"}}, \"*\")"
      ],
      "text/plain": [
       "<IPython.core.display.Javascript object>"
      ]
     },
     "metadata": {},
     "output_type": "display_data"
    },
    {
     "data": {
      "text/markdown": [
       "<span style=\"color:#33cc33\">Correct</span>"
      ],
      "text/plain": [
       "Correct"
      ]
     },
     "metadata": {},
     "output_type": "display_data"
    }
   ],
   "source": [
    "# Fill in the best model\n",
    "best_model = model_3\n",
    "\n",
    "# Check your answer\n",
    "step_1.check()"
   ]
  },
  {
   "cell_type": "code",
   "execution_count": 7,
   "id": "35db90c6",
   "metadata": {
    "execution": {
     "iopub.execute_input": "2021-09-24T16:21:55.248634Z",
     "iopub.status.busy": "2021-09-24T16:21:55.247932Z",
     "iopub.status.idle": "2021-09-24T16:21:55.249899Z",
     "shell.execute_reply": "2021-09-24T16:21:55.250435Z"
    },
    "papermill": {
     "duration": 0.02411,
     "end_time": "2021-09-24T16:21:55.250625",
     "exception": false,
     "start_time": "2021-09-24T16:21:55.226515",
     "status": "completed"
    },
    "tags": []
   },
   "outputs": [],
   "source": [
    "# Lines below will give you a hint or solution code\n",
    "#step_1.hint()\n",
    "#step_1.solution()"
   ]
  },
  {
   "cell_type": "markdown",
   "id": "4fee52da",
   "metadata": {
    "papermill": {
     "duration": 0.017542,
     "end_time": "2021-09-24T16:21:55.286291",
     "exception": false,
     "start_time": "2021-09-24T16:21:55.268749",
     "status": "completed"
    },
    "tags": []
   },
   "source": [
    "# Step 2: Generate test predictions\n",
    "\n",
    "Great. You know how to evaluate what makes an accurate model. Now it's time to go through the modeling process and make predictions. In the line below, create a Random Forest model with the variable name `my_model`."
   ]
  },
  {
   "cell_type": "code",
   "execution_count": 8,
   "id": "edd592da",
   "metadata": {
    "execution": {
     "iopub.execute_input": "2021-09-24T16:21:55.325388Z",
     "iopub.status.busy": "2021-09-24T16:21:55.324661Z",
     "iopub.status.idle": "2021-09-24T16:21:55.331063Z",
     "shell.execute_reply": "2021-09-24T16:21:55.331597Z",
     "shell.execute_reply.started": "2021-09-24T16:19:04.459367Z"
    },
    "papermill": {
     "duration": 0.02769,
     "end_time": "2021-09-24T16:21:55.331782",
     "exception": false,
     "start_time": "2021-09-24T16:21:55.304092",
     "status": "completed"
    },
    "tags": []
   },
   "outputs": [
    {
     "data": {
      "application/javascript": [
       "parent.postMessage({\"jupyterEvent\": \"custom.exercise_interaction\", \"data\": {\"outcomeType\": 1, \"valueTowardsCompletion\": 0.5, \"interactionType\": 1, \"questionType\": 2, \"questionId\": \"2_Predictions\", \"learnToolsVersion\": \"0.3.4\", \"failureMessage\": \"\", \"exceptionClass\": \"\", \"trace\": \"\"}}, \"*\")"
      ],
      "text/plain": [
       "<IPython.core.display.Javascript object>"
      ]
     },
     "metadata": {},
     "output_type": "display_data"
    },
    {
     "data": {
      "text/markdown": [
       "<span style=\"color:#33cc33\">Correct</span>"
      ],
      "text/plain": [
       "Correct"
      ]
     },
     "metadata": {},
     "output_type": "display_data"
    }
   ],
   "source": [
    "# Define a model\n",
    "my_model = best_model # Your code here\n",
    "\n",
    "# Check your answer\n",
    "step_2.check()"
   ]
  },
  {
   "cell_type": "code",
   "execution_count": 9,
   "id": "5b3373a2",
   "metadata": {
    "execution": {
     "iopub.execute_input": "2021-09-24T16:21:55.373703Z",
     "iopub.status.busy": "2021-09-24T16:21:55.372587Z",
     "iopub.status.idle": "2021-09-24T16:21:55.380620Z",
     "shell.execute_reply": "2021-09-24T16:21:55.380055Z",
     "shell.execute_reply.started": "2021-09-24T16:18:22.377790Z"
    },
    "papermill": {
     "duration": 0.030011,
     "end_time": "2021-09-24T16:21:55.380765",
     "exception": false,
     "start_time": "2021-09-24T16:21:55.350754",
     "status": "completed"
    },
    "tags": []
   },
   "outputs": [
    {
     "data": {
      "application/javascript": [
       "parent.postMessage({\"jupyterEvent\": \"custom.exercise_interaction\", \"data\": {\"interactionType\": 3, \"questionType\": 2, \"questionId\": \"2_Predictions\", \"learnToolsVersion\": \"0.3.4\", \"valueTowardsCompletion\": 0.0, \"failureMessage\": \"\", \"exceptionClass\": \"\", \"trace\": \"\", \"outcomeType\": 4}}, \"*\")"
      ],
      "text/plain": [
       "<IPython.core.display.Javascript object>"
      ]
     },
     "metadata": {},
     "output_type": "display_data"
    },
    {
     "data": {
      "text/markdown": [
       "<span style=\"color:#33cc99\">Solution:</span> \n",
       "```python\n",
       "# Define a model\n",
       "my_model = best_model\n",
       "\n",
       "```"
      ],
      "text/plain": [
       "Solution: \n",
       "```python\n",
       "# Define a model\n",
       "my_model = best_model\n",
       "\n",
       "```"
      ]
     },
     "metadata": {},
     "output_type": "display_data"
    }
   ],
   "source": [
    "# Lines below will give you a hint or solution code\n",
    "#step_2.hint()\n",
    "step_2.solution()"
   ]
  },
  {
   "cell_type": "markdown",
   "id": "f30e49d0",
   "metadata": {
    "papermill": {
     "duration": 0.019414,
     "end_time": "2021-09-24T16:21:55.420065",
     "exception": false,
     "start_time": "2021-09-24T16:21:55.400651",
     "status": "completed"
    },
    "tags": []
   },
   "source": [
    "Run the next code cell without changes.  The code fits the model to the training and validation data, and then generates test predictions that are saved to a CSV file.  These test predictions can be submitted directly to the competition!"
   ]
  },
  {
   "cell_type": "code",
   "execution_count": 10,
   "id": "b139bdb9",
   "metadata": {
    "execution": {
     "iopub.execute_input": "2021-09-24T16:21:55.468166Z",
     "iopub.status.busy": "2021-09-24T16:21:55.467063Z",
     "iopub.status.idle": "2021-09-24T16:22:00.012090Z",
     "shell.execute_reply": "2021-09-24T16:22:00.011469Z",
     "shell.execute_reply.started": "2021-09-24T16:19:15.829639Z"
    },
    "papermill": {
     "duration": 4.572213,
     "end_time": "2021-09-24T16:22:00.012256",
     "exception": false,
     "start_time": "2021-09-24T16:21:55.440043",
     "status": "completed"
    },
    "tags": []
   },
   "outputs": [],
   "source": [
    "# Fit the model to the training data\n",
    "my_model.fit(X, y)\n",
    "\n",
    "# Generate test predictions\n",
    "preds_test = my_model.predict(X_test)\n",
    "\n",
    "# Save predictions in format used for competition scoring\n",
    "output = pd.DataFrame({'Id': X_test.index,\n",
    "                       'SalePrice': preds_test})\n",
    "output.to_csv('submission.csv', index=False)"
   ]
  }
 ],
 "metadata": {
  "kernelspec": {
   "display_name": "Python 3 (ipykernel)",
   "language": "python",
   "name": "python3"
  },
  "language_info": {
   "codemirror_mode": {
    "name": "ipython",
    "version": 3
   },
   "file_extension": ".py",
   "mimetype": "text/x-python",
   "name": "python",
   "nbconvert_exporter": "python",
   "pygments_lexer": "ipython3",
   "version": "3.9.7"
  },
  "papermill": {
   "default_parameters": {},
   "duration": 21.751937,
   "end_time": "2021-09-24T16:22:00.822346",
   "environment_variables": {},
   "exception": null,
   "input_path": "__notebook__.ipynb",
   "output_path": "__notebook__.ipynb",
   "parameters": {},
   "start_time": "2021-09-24T16:21:39.070409",
   "version": "2.3.3"
  }
 },
 "nbformat": 4,
 "nbformat_minor": 5
}
